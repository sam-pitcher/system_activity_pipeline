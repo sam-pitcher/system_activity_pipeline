{
  "nbformat": 4,
  "nbformat_minor": 0,
  "metadata": {
    "colab": {
      "name": "looker_system_activity.ipynb",
      "provenance": [],
      "collapsed_sections": [],
      "authorship_tag": "ABX9TyMdi5nQDysOhs0edkXWu1mX",
      "include_colab_link": true
    },
    "kernelspec": {
      "name": "python3",
      "display_name": "Python 3"
    },
    "language_info": {
      "name": "python"
    }
  },
  "cells": [
    {
      "cell_type": "markdown",
      "metadata": {
        "id": "view-in-github",
        "colab_type": "text"
      },
      "source": [
        "<a href=\"https://colab.research.google.com/github/sam-pitcher/system_activity_pipeline/blob/main/looker_system_activity.ipynb\" target=\"_parent\"><img src=\"https://colab.research.google.com/assets/colab-badge.svg\" alt=\"Open In Colab\"/></a>"
      ]
    },
    {
      "cell_type": "code",
      "execution_count": null,
      "metadata": {
        "colab": {
          "base_uri": "https://localhost:8080/"
        },
        "id": "PcUOV41qejmX",
        "outputId": "236eb11c-165c-4d49-9207-9b980ae74e5a"
      },
      "outputs": [
        {
          "output_type": "stream",
          "name": "stdout",
          "text": [
            "Requirement already satisfied: looker_sdk in /usr/local/lib/python3.7/dist-packages (21.20.0)\n",
            "Requirement already satisfied: attrs>=20.1.0 in /usr/local/lib/python3.7/dist-packages (from looker_sdk) (21.4.0)\n",
            "Requirement already satisfied: typing-extensions in /usr/local/lib/python3.7/dist-packages (from looker_sdk) (3.10.0.2)\n",
            "Requirement already satisfied: cattrs==1.1.2 in /usr/local/lib/python3.7/dist-packages (from looker_sdk) (1.1.2)\n",
            "Requirement already satisfied: requests>=2.22 in /usr/local/lib/python3.7/dist-packages (from looker_sdk) (2.23.0)\n",
            "Requirement already satisfied: certifi>=2017.4.17 in /usr/local/lib/python3.7/dist-packages (from requests>=2.22->looker_sdk) (2021.10.8)\n",
            "Requirement already satisfied: idna<3,>=2.5 in /usr/local/lib/python3.7/dist-packages (from requests>=2.22->looker_sdk) (2.10)\n",
            "Requirement already satisfied: chardet<4,>=3.0.2 in /usr/local/lib/python3.7/dist-packages (from requests>=2.22->looker_sdk) (3.0.4)\n",
            "Requirement already satisfied: urllib3!=1.25.0,!=1.25.1,<1.26,>=1.21.1 in /usr/local/lib/python3.7/dist-packages (from requests>=2.22->looker_sdk) (1.24.3)\n"
          ]
        }
      ],
      "source": [
        "pip install looker_sdk"
      ]
    },
    {
      "cell_type": "code",
      "source": [
        "pip install urllib3"
      ],
      "metadata": {
        "colab": {
          "base_uri": "https://localhost:8080/"
        },
        "id": "sujT0t0Je2Bq",
        "outputId": "263f6ec5-938a-4826-e7f8-fff80be8a67a"
      },
      "execution_count": null,
      "outputs": [
        {
          "output_type": "stream",
          "name": "stdout",
          "text": [
            "Requirement already satisfied: urllib3 in /usr/local/lib/python3.7/dist-packages (1.24.3)\n"
          ]
        }
      ]
    },
    {
      "cell_type": "code",
      "source": [
        "import looker_sdk\n",
        "import urllib3\n",
        "import csv\n",
        "import os\n",
        "import pprint as pp\n",
        "urllib3.disable_warnings(urllib3.exceptions.InsecureRequestWarning)\n",
        "\n",
        "# if using Cloud Functions, highly recommend storing Looker API creds in Secret Manager\n",
        "os.environ['LOOKERSDK_BASE_URL'] = 'ADD_YOUR_BASE_URL'\n",
        "os.environ['LOOKERSDK_CLIENT_ID'] = 'ADD_YOUR_CLIENT_ID'\n",
        "os.environ['LOOKERSDK_CLIENT_SECRET'] = 'ADD_YOUR_CLIENT_SECRET'\n",
        "os.environ['LOOKERSDK_VERIFY_SSL']= 'False'\n",
        "os.environ['LOOKERSDK_API_VERSION']= '4.0'\n",
        "os.environ[\"LOOKERSDK_TIMEOUT\"] = \"120\"\n",
        "\n",
        "sdk = looker_sdk.init40()\n",
        "print(sdk.me())"
      ],
      "metadata": {
        "colab": {
          "base_uri": "https://localhost:8080/"
        },
        "id": "7hSy8PpoenpR",
        "outputId": "19ba4f7d-082e-4270-d6ca-a70f4e9cacf4"
      },
      "execution_count": null,
      "outputs": [
        {
          "output_type": "stream",
          "name": "stdout",
          "text": [
            "User(can={'show': True, 'index': True, 'show_details': True, 'index_details': True, 'sudo': False}, avatar_url='https://gravatar.lookercdn.com/avatar/dc540492ec307b9664f0bed96c36d291?s=156&d=blank', avatar_url_without_sizing='https://gravatar.lookercdn.com/avatar/dc540492ec307b9664f0bed96c36d291?d=blank', credentials_api3=[CredentialsApi3(can={}, id=75, client_id='mNs3WH6BXdfqv9s4Kq3K', created_at='2021-10-06T10:00:05.000+00:00', is_disabled=False, type='api3', url='https://localhost:19999/api/3.1/users/7405/credentials_api3/75')], credentials_email=CredentialsEmail(can={'show_password_reset_url': True}, created_at='2019-02-05T14:16:14.000+00:00', email='sam.pitcher@looker.com', forced_password_reset_at_next_login=False, is_disabled=False, logged_in_at='2022-02-03T13:48:54.000+00:00', password_reset_url='', type='email', url='https://localhost:19999/api/3.1/users/7405/credentials_email', user_url='https://localhost:19999/api/3.1/users/7405'), credentials_embed=[], credentials_google=None, credentials_ldap=None, credentials_looker_openid=CredentialsLookerOpenid(can={}, created_at='2019-09-02T14:40:10.000+00:00', email='sam.pitcher@looker.com', is_disabled=False, logged_in_at='2019-09-02T14:54:45.000+00:00', logged_in_ip='79.173.134.18', type='looker_openid', url='https://localhost:19999/api/3.1/users/7405/credentials_looker_openid', user_url='https://localhost:19999/api/3.1/users/7405'), credentials_oidc=None, credentials_saml=None, credentials_totp=None, display_name='Sam Pitcher', email='sam.pitcher@looker.com', embed_group_space_id=None, first_name='Sam', group_ids=[], home_folder_id='1', id=7405, is_disabled=False, last_name='Pitcher', locale='en', looker_versions=['21.0.11', '21.0.25', '21.12.14', '21.12.24', '21.14.11', '21.14.19', '21.14.25', '21.16.15', '21.16.9', '21.4.17', '21.4.7', '22.0.13', '6.10.9', '6.14.18', '6.16.10', '6.16.16', '6.16.6', '6.18.14', '6.18.15', '6.22.5', '6.24.30', '6.24.8', '6.4.13', '6.6.9', '6.8.13', '7.0.13', '7.0.19', '7.10.11', '7.10.19', '7.12.17', '7.14.16', '7.16.18', '7.16.26', '7.16.31', '7.18.11', '7.18.16', '7.18.21', '7.18.27', '7.2.12', '7.2.22', '7.2.7', '7.20.10', '7.20.9', '7.4.16', '7.4.27', '7.6.13', '7.6.17', '7.8.11', '7.8.18'], models_dir_validated=False, personal_folder_id=6876, presumed_looker_employee=True, role_ids=[2], sessions=[], ui_state={'homepageGroupIdPreference': 1, 'homepagePopularGroupIdPreference': 1, 'viewPreference': 'table', 'spacesSidebarCollapsed': False, 'dismissedDialogs': ['enable-homepage-banner']}, verified_looker_employee=True, roles_externally_managed=False, allow_direct_roles=True, allow_normal_group_membership=True, allow_roles_from_normal_groups=True, url='https://localhost:19999/api/3.1/users/7405')\n"
          ]
        }
      ]
    },
    {
      "cell_type": "code",
      "source": [
        "import json\n",
        "\n",
        "# function takes:\n",
        "# sys_act_model: this is the table in the currenct BigQuery System Activity. Forexample history, user, query\n",
        "# limit: needs to be 'limit INTEGER' (this should be kept as a blank string unless testing)\n",
        "# date_filter: the where claue for the date. Useful for only updating with yesterday's data eg: \"where cast(created_at as date) > date_sub(current_date, interval 1 day)\"\n",
        "\n",
        "# function returns a json of the system activity data\n",
        "\n",
        "def sys_act_data(sys_act_model, limit, date_filter):\n",
        "  SQL = f\"SELECT * FROM {sys_act_model} {date_filter} {limit}\"\n",
        "  print(f\"SQL: {SQL}\")\n",
        "  sql_body = looker_sdk.models.SqlQueryCreate(connection_name = \"looker__internal__analytics\", sql = SQL)\n",
        "  slug = sdk.create_sql_query(body=sql_body).slug\n",
        "  result = sdk.run_sql_query(slug=slug, result_format=\"json\")\n",
        "  return json.loads(result)"
      ],
      "metadata": {
        "id": "5zI2HI_ZevYZ"
      },
      "execution_count": null,
      "outputs": []
    },
    {
      "cell_type": "code",
      "source": [
        "from google.cloud import bigquery\n",
        "import os\n",
        "\n",
        "# client can be used to interact with BigQuery (adding data, tables, datasets)\n",
        "\n",
        "os.environ['GOOGLE_APPLICATION_CREDENTIALS'] = 'looker-ps-emea-consultants.json'\n",
        "client = bigquery.Client()"
      ],
      "metadata": {
        "id": "xqMZliyAf7dW"
      },
      "execution_count": null,
      "outputs": []
    },
    {
      "cell_type": "code",
      "source": [
        "PROJECT_NAME='YOUR_PROJECT_NAME'\n",
        "DATASET_NAME='system_activity'\n",
        "\n",
        "dataset = bigquery.Dataset(f'{PROJECT_NAME}.{DATASET_NAME}')\n",
        "try:\n",
        "  dataset = client.create_dataset(dataset)\n",
        "except:\n",
        "  print('dataset already exists')\n",
        "# need to add exception rule"
      ],
      "metadata": {
        "id": "PLES8eq6gmS8"
      },
      "execution_count": null,
      "outputs": []
    },
    {
      "cell_type": "code",
      "source": [
        "from google.cloud.bigquery import table\n",
        "\n",
        "# function used to create a table in BigQuery. It takes the first row of data and defines the schema with that row\n",
        "# function takes:\n",
        "# SCHEMA_DATA: a dict or json of the data going into the table\n",
        "\n",
        "def create_bigquery_table(SCHEMA_DATA, DATASET_NAME, TABLE_NAME):\n",
        "  dataset_ref = client.dataset(DATASET_NAME)\n",
        "  table_ref = dataset_ref.table(TABLE_NAME)\n",
        "  schema = []\n",
        "  for column in SCHEMA_DATA[0]:\n",
        "    if type(SCHEMA_DATA[0][column]) == int:\n",
        "      field_type = 'int64'\n",
        "    elif type(SCHEMA_DATA[0][column]) == float:\n",
        "      field_type = 'float64'\n",
        "    else:\n",
        "      field_type = 'string'\n",
        "    schema.append(\n",
        "        bigquery.schema.SchemaField(\n",
        "          name = column,\n",
        "          field_type = field_type\n",
        "        )\n",
        "      )\n",
        "  table = bigquery.table.Table(table_ref, schema=schema)\n",
        "  table = client.create_table(table, exists_ok=True)\n",
        "  return table"
      ],
      "metadata": {
        "id": "aveUuUpHg3L5"
      },
      "execution_count": null,
      "outputs": []
    },
    {
      "cell_type": "code",
      "source": [
        "# function used to add data to a table in BigQuery.\n",
        "# function takes:\n",
        "# SCHEMA_DATA: a dict or json of the data going into the table\n",
        "\n",
        "def add_data_to_bigquery_table(SCHEMA_DATA, DATASET_NAME, TABLE_NAME):\n",
        "  dataset_ref = client.dataset(DATASET_NAME)\n",
        "  table_ref = dataset_ref.table(TABLE_NAME)\n",
        "  table = client.get_table(table_ref)\n",
        "\n",
        "  inserts = client.insert_rows_json(table, SCHEMA_DATA)\n",
        "  return inserts"
      ],
      "metadata": {
        "id": "1OBURnbbiITS"
      },
      "execution_count": null,
      "outputs": []
    },
    {
      "cell_type": "code",
      "source": [
        "PROJECT_NAME='YOUR_PROJECT_NAME'\n",
        "DATASET_NAME='system_activity'\n",
        "\n",
        "# this is the list of models available in the BigQuery System Activity Model already defined by Looker\n",
        "\n",
        "# Note: group, source_query, source_query_rank and user_query_rank are unavailable to query via SQL and\n",
        "# are therefore commented out. There is another way to get the group data defined below\n",
        "\n",
        "sys_act_models = [\n",
        "                  'history',\n",
        "                  # 'group',\n",
        "                  'group_user',\n",
        "                  'look',\n",
        "                  'query',\n",
        "                  'result_maker',\n",
        "                  'merge_query',\n",
        "                  'merge_query_source_query',\n",
        "                  # 'source_query',\n",
        "                  'sql_query',\n",
        "                  'user',\n",
        "                  'user_facts',\n",
        "                  'user_facts_role',\n",
        "                  'role',\n",
        "                  'permission_set',\n",
        "                  'model_set',\n",
        "                  'node'\n",
        "                  # 'source_query_rank',\n",
        "                  # 'user_query_rank'\n",
        "                  \n",
        "]"
      ],
      "metadata": {
        "id": "uIa2QC5xiZne"
      },
      "execution_count": null,
      "outputs": []
    },
    {
      "cell_type": "code",
      "source": [
        "# BUILD THE TABLES\n",
        "\n",
        "for i in sys_act_models:\n",
        "  print(f\"Processing the {i} model.\")\n",
        "  r = sys_act_data(sys_act_model = i, date_filter = \"\", limit = \"limit 30\")\n",
        "  print(r)\n",
        "  TABLE_NAME = i\n",
        "  try:\n",
        "    create_bigquery_table(SCHEMA_DATA=r, DATASET_NAME=DATASET_NAME, TABLE_NAME=TABLE_NAME)\n",
        "  except:\n",
        "    pass\n",
        "\n",
        "# GROUP TABLE\n",
        "SCHEMA_DATA = [{'group_id': 1, 'group_name': 'name'}]\n",
        "create_bigquery_table(SCHEMA_DATA=SCHEMA_DATA, DATASET_NAME=DATASET_NAME, TABLE_NAME='group')\n"
      ],
      "metadata": {
        "colab": {
          "base_uri": "https://localhost:8080/"
        },
        "id": "RBx_o7wz9gR6",
        "outputId": "23887909-afb3-420f-d528-7cf00a215411"
      },
      "execution_count": null,
      "outputs": [
        {
          "output_type": "execute_result",
          "data": {
            "text/plain": [
              "Table(TableReference(DatasetReference('looker-ps-emea-consultants', 'system_activity'), 'group'))"
            ]
          },
          "metadata": {},
          "execution_count": 58
        }
      ]
    },
    {
      "cell_type": "code",
      "source": [
        "# ADD DATA EACH DAY TO THE TABLES\n",
        "\n",
        "for i in sys_act_models:\n",
        "  print(f\"Processing the {i} model.\")\n",
        "  r = sys_act_data(\n",
        "      sys_act_model = i,\n",
        "      date_filter = \"where cast(created_at as date) > date_sub(current_date, interval 1 day)\",\n",
        "      limit = \"\"\n",
        "      )\n",
        "  print(r)\n",
        "  TABLE_NAME = i\n",
        "  \n",
        "  try:\n",
        "    add_data_to_bigquery_table(SCHEMA_DATA=r, DATASET_NAME=DATASET_NAME, TABLE_NAME=TABLE_NAME)\n",
        "  except:\n",
        "    pass\n",
        "\n",
        "# GROUP TABLE\n",
        "groups = sdk.all_groups()\n",
        "SCHEMA_DATA = []\n",
        "for group in groups:\n",
        "  SCHEMA_DATA.append({'group_id': group.id, 'group_name': group.name})\n",
        "\n",
        "add_data_to_bigquery_table(\n",
        "    SCHEMA_DATA=SCHEMA_DATA,\n",
        "    DATASET_NAME=DATASET_NAME,\n",
        "    TABLE_NAME='group')\n"
      ],
      "metadata": {
        "colab": {
          "base_uri": "https://localhost:8080/"
        },
        "id": "B-YESOxY-AKQ",
        "outputId": "8a83c955-712f-4fad-d78d-741ff31e951c"
      },
      "execution_count": null,
      "outputs": [
        {
          "output_type": "execute_result",
          "data": {
            "text/plain": [
              "[]"
            ]
          },
          "metadata": {},
          "execution_count": 62
        }
      ]
    }
  ]
}